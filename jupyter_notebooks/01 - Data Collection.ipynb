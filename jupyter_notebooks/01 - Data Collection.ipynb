{
  "cells": [
    {
      "cell_type": "markdown",
      "metadata": {
        "id": "0aStgWSO0E0E"
      },
      "source": [
        "# **Data Collection Notebook**"
      ]
    },
    {
      "cell_type": "markdown",
      "metadata": {
        "id": "1eLEkw5O0ECa"
      },
      "source": [
        "## Objectives\n",
        "\n",
        "* Fetch data from Kaggle and save as raw data\n",
        "* Inspect the data and save under outputs/datasets/collection\n",
        "\n",
        "## Inputs\n",
        "\n",
        "*   Kaggle JSON file - authentication token \n",
        "\n",
        "## Outputs\n",
        "\n",
        "* Generate Dataset: outputs/datasets/collection/HeritageHousing.csv\n",
        "\n",
        "## Additional Comments\n",
        "\n",
        "* For this project, we are fetching the data from Kaggle."
      ]
    },
    {
      "cell_type": "markdown",
      "metadata": {
        "id": "9uWZXH9LwoQg"
      },
      "source": [
        "---"
      ]
    },
    {
      "cell_type": "markdown",
      "metadata": {
        "id": "cqP-UeN-z3i2"
      },
      "source": [
        "# Change working directory"
      ]
    },
    {
      "cell_type": "markdown",
      "metadata": {
        "id": "aOGIGS-uz3i2"
      },
      "source": [
        "We need to change the working directory from its current folder to its parent folder\n",
        "* We access the current directory with os.getcwd()"
      ]
    },
    {
      "cell_type": "code",
      "execution_count": null,
      "metadata": {
        "id": "wZfF_j-Bz3i4",
        "outputId": "66943449-1436-4c3d-85c7-b85f9f78349b"
      },
      "outputs": [],
      "source": [
        "import os\n",
        "current_dir = os.getcwd()\n",
        "current_dir"
      ]
    },
    {
      "cell_type": "markdown",
      "metadata": {
        "id": "9MWW8E7lz3i7"
      },
      "source": [
        "We want to make the parent of the current directory the new current directory\n",
        "* os.path.dirname() gets the parent directory\n",
        "* os.chir() defines the new current directory"
      ]
    },
    {
      "cell_type": "code",
      "execution_count": null,
      "metadata": {
        "id": "TwHsQRWjz3i9",
        "outputId": "86849db3-cd2f-4cc5-ebb8-2d0caafa1a2c"
      },
      "outputs": [],
      "source": [
        "os.chdir(os.path.dirname(current_dir))\n",
        "print(\"You set a new current directory\")"
      ]
    },
    {
      "cell_type": "markdown",
      "metadata": {
        "id": "M_xPk_Ijz3i-"
      },
      "source": [
        "Confirm the new current directory"
      ]
    },
    {
      "cell_type": "code",
      "execution_count": null,
      "metadata": {
        "id": "vz3S-_kjz3jA",
        "outputId": "00b79ae4-75d0-4a96-d193-ac9ef9847ea2"
      },
      "outputs": [],
      "source": [
        "current_dir = os.getcwd()\n",
        "current_dir"
      ]
    },
    {
      "cell_type": "markdown",
      "metadata": {
        "id": "-mavJ8DibrcQ"
      },
      "source": [
        "# Fetch data from Kaggle"
      ]
    },
    {
      "cell_type": "markdown",
      "metadata": {},
      "source": [
        "---"
      ]
    },
    {
      "cell_type": "markdown",
      "metadata": {},
      "source": [
        "First we need to install kaggle to fetch the data"
      ]
    },
    {
      "cell_type": "code",
      "execution_count": null,
      "metadata": {},
      "outputs": [],
      "source": [
        "! pip install kaggle==1.5.12"
      ]
    },
    {
      "cell_type": "markdown",
      "metadata": {},
      "source": [
        "Next we need our json file from kaggle. This is needed to authenticate kaggle to download data required for this project.\n",
        "* You will need a **kaggle.json** file available. You can get this by registering a free account at https://www.kaggle.com/\n",
        "* Drag and drop the kaggle.json file into the root directory of this project.\n",
        "\n",
        "![Kaggle](../media/kaggle.png)"
      ]
    },
    {
      "cell_type": "markdown",
      "metadata": {},
      "source": [
        "Once that is done we run the cell below, so the token is recognized in the session"
      ]
    },
    {
      "cell_type": "code",
      "execution_count": null,
      "metadata": {},
      "outputs": [],
      "source": [
        "import os\n",
        "os.environ['KAGGLE_CONFIG_DIR'] = os.getcwd()\n",
        "! chmod 600 kaggle.json"
      ]
    },
    {
      "cell_type": "markdown",
      "metadata": {},
      "source": [
        "We are using the following [Kaggle url](https://www.kaggle.com/datasets/codeinstitute/housing-prices-data)"
      ]
    },
    {
      "cell_type": "markdown",
      "metadata": {},
      "source": [
        "Using the dataset URL, we then define the Kaggle dataset, destination folder and download it"
      ]
    },
    {
      "cell_type": "code",
      "execution_count": null,
      "metadata": {},
      "outputs": [],
      "source": [
        "KaggleDatasetPath = \"codeinstitute/housing-prices-data\"\n",
        "DestinationFolder = \"inputs/datasets/raw\"   \n",
        "! kaggle datasets download -d {KaggleDatasetPath} -p {DestinationFolder}"
      ]
    },
    {
      "cell_type": "markdown",
      "metadata": {},
      "source": [
        "Next we unzip the downloaded file, delete the zip file and delete kaggle.json file. Now we have the data and aren't at risk of pushing our private API key.\n"
      ]
    },
    {
      "cell_type": "code",
      "execution_count": null,
      "metadata": {},
      "outputs": [],
      "source": [
        "! unzip {DestinationFolder}/*.zip -d {DestinationFolder} \\\n",
        "  && rm {DestinationFolder}/*.zip \\\n",
        "  && rm kaggle.json"
      ]
    },
    {
      "cell_type": "markdown",
      "metadata": {
        "id": "ZY3l0-AxO93d"
      },
      "source": [
        "---"
      ]
    },
    {
      "cell_type": "markdown",
      "metadata": {
        "id": "uFQo3ycuO-v6"
      },
      "source": [
        "# Load and Inspect Kaggle Data"
      ]
    },
    {
      "cell_type": "markdown",
      "metadata": {},
      "source": [
        "Let's take a look at our data."
      ]
    },
    {
      "cell_type": "code",
      "execution_count": null,
      "metadata": {},
      "outputs": [],
      "source": [
        "import pandas as pd\n",
        "df = pd.read_csv(f\"inputs/datasets/raw/house-price-20211124T154130Z-001/house-price/house_prices_records.csv\")\n",
        "df.head(10)"
      ]
    },
    {
      "cell_type": "markdown",
      "metadata": {},
      "source": [
        "### Abbreviations explained:\n",
        "\n",
        "1stFlrSF: First Floor square feet\n",
        "\n",
        "2ndFlrSF: Second floor square feet\n",
        "\n",
        "BedroomAbvGr: Bedrooms above grade (does NOT include basement bedrooms)\n",
        "\n",
        "BsmtExposure: Refers to walkout or garden level walls\n",
        "*   Gd: Good Exposure;\n",
        "*   Av: Average Exposure;\n",
        "*   Mn: Mimimum Exposure;\n",
        "*   No: No Exposure;\n",
        "*   None: No Basement\n",
        "\n",
        "BsmtFinType1: Rating of basement finished area\n",
        "*   GLQ: Good Living Quarters;\n",
        "*   ALQ: Average Living Quarters;\n",
        "*   BLQ: Below Average Living Quarters;\n",
        "*   Rec: Average Rec Room;\n",
        "*   LwQ: Low Quality;\n",
        "*   Unf: Unfinshed;\n",
        "*   None: No Basement\n",
        "\n",
        "BsmtFinSF1: Type 1 finished square feet\n",
        "\n",
        "BsmtUnfSF: Unfinished square feet of basement area\n",
        "\n",
        "TotalBsmtSF: Total square feet of basement area\n",
        "\n",
        "GarageArea: Size of garage in square feet\n",
        "\n",
        "GarageFinish: Interior finish of the garage\n",
        "*   Fin: Finished;\n",
        "*   RFn: Rough Finished;\n",
        "*   Unf: Unfinished;\n",
        "*   None: No Garage\n",
        "\n",
        "GarageYrBlt: Year garage was built\n",
        "\n",
        "GrLivArea: Above grade (ground) living area square feet\n",
        "\n",
        "KitchenQual: Kitchen quality\n",
        "*   Ex: Excellent;\n",
        "*   Gd: Good;\n",
        "*   TA: Typical/Average;\n",
        "*   Fa: Fair;\n",
        "*   Po: Poor\n",
        "\n",
        "LotArea: Lot size in square feet\n",
        "\n",
        "LotFrontage: Linear feet of street connected to property\n",
        "\n",
        "MasVnrArea: Masonry veneer area in square feet\n",
        "\n",
        "EnclosedPorch: Enclosed porch area in square feet\n",
        "\n",
        "OpenPorchSF: Open porch area in square feet\n",
        "\n",
        "OverallCond: Rates the overall condition of the house\n",
        "*   10: Very Excellent;\n",
        "*   9: Excellent;\n",
        "*   8: Very Good;\n",
        "*   7: Good;\n",
        "*   6: Above Average;\n",
        "*   5: Average;\n",
        "*   4: Below Average;\n",
        "*   3: Fair;\n",
        "*   2: Poor;\n",
        "*   1: Very Poor\n",
        "\n",
        "OverallQual: Rates the overall material and finish of the house"
      ]
    },
    {
      "cell_type": "markdown",
      "metadata": {},
      "source": [
        "### Dataframe Summary"
      ]
    },
    {
      "cell_type": "code",
      "execution_count": null,
      "metadata": {},
      "outputs": [],
      "source": [
        "df.info()"
      ]
    },
    {
      "cell_type": "markdown",
      "metadata": {},
      "source": [
        "---"
      ]
    },
    {
      "cell_type": "markdown",
      "metadata": {
        "id": "ltNetd085qHf"
      },
      "source": [
        "# Push files to Repo"
      ]
    },
    {
      "cell_type": "code",
      "execution_count": null,
      "metadata": {
        "id": "aKlnIozA4eQO",
        "outputId": "fd09bc1f-adb1-4511-f6ce-492a6af570c0"
      },
      "outputs": [],
      "source": [
        "import os\n",
        "try:\n",
        "  os.makedirs(name='outputs/datasets/collection') # create outputs/datasets/collection folder\n",
        "except Exception as e:\n",
        "  print(e)\n",
        "\n",
        "df.to_csv(f\"outputs/datasets/collection/HeritageHousing.csv\",index=False)\n"
      ]
    }
  ],
  "metadata": {
    "accelerator": "GPU",
    "colab": {
      "name": "Data Practitioner Jupyter Notebook.ipynb",
      "provenance": [],
      "toc_visible": true
    },
    "interpreter": {
      "hash": "8b8334dab9339717f727a1deaf837b322d7a41c20d15cc86be99a8e69ceec8ce"
    },
    "kernelspec": {
      "display_name": "Python 3.8.12 64-bit ('3.8.12': pyenv)",
      "name": "python3"
    },
    "language_info": {
      "codemirror_mode": {
        "name": "ipython",
        "version": 3
      },
      "file_extension": ".py",
      "mimetype": "text/x-python",
      "name": "python",
      "nbconvert_exporter": "python",
      "pygments_lexer": "ipython3",
      "version": "3.8.12"
    },
    "orig_nbformat": 2
  },
  "nbformat": 4,
  "nbformat_minor": 2
}
